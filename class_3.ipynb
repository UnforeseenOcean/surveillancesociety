{
 "cells": [
  {
   "cell_type": "code",
   "execution_count": null,
   "metadata": {
    "collapsed": false
   },
   "outputs": [],
   "source": [
    "%pylab inline\n",
    "\n",
    "import seaborn as sns\n",
    "import pickle\n",
    "\n",
    "df = pickle.load(open('ssoc_df_2.p','rb'))"
   ]
  },
  {
   "cell_type": "code",
   "execution_count": null,
   "metadata": {
    "collapsed": false
   },
   "outputs": [],
   "source": [
    "df.head()"
   ]
  },
  {
   "cell_type": "code",
   "execution_count": null,
   "metadata": {
    "collapsed": true
   },
   "outputs": [],
   "source": []
  },
  {
   "cell_type": "markdown",
   "metadata": {},
   "source": [
    "## Geohash"
   ]
  },
  {
   "cell_type": "markdown",
   "metadata": {},
   "source": [
    "<img width=500 src=\"http://kamliu.co.uk/wp-content/uploads/2015/11/map-1.png\"/>"
   ]
  },
  {
   "cell_type": "markdown",
   "metadata": {},
   "source": [
    "It is a hierarchical spatial data structure which subdivides space into buckets of grid shape. Geohashes offer properties like arbitrary precision and the possibility of gradually removing characters from the end of the code to reduce its size (and gradually lose precision).\n",
    "\n",
    "The main usages of Geohashes are:\n",
    "\n",
    "- As a unique identifier.\n",
    "- To represent point data, e.g. in databases.\n"
   ]
  },
  {
   "cell_type": "code",
   "execution_count": null,
   "metadata": {
    "collapsed": false
   },
   "outputs": [],
   "source": [
    "import geohash # pip install python-geohash\n",
    "\n",
    "# full geohash\n",
    "df['geohash']=df[['lat','lon']].apply(lambda x: geohash.encode(x['lat'],x['lon']), axis=1)\n",
    "\n",
    "df.head()"
   ]
  },
  {
   "cell_type": "markdown",
   "metadata": {},
   "source": [
    "### Top Locations / by geohash"
   ]
  },
  {
   "cell_type": "code",
   "execution_count": null,
   "metadata": {
    "collapsed": false
   },
   "outputs": [],
   "source": [
    "# top locations grouped by geohash\n",
    "\n",
    "daily_locs = df[['geohash']].groupby(df.geohash).size()\n",
    "daily_locs.sort_values(inplace=True, ascending=False)\n",
    "print daily_locs[:20]"
   ]
  },
  {
   "cell_type": "code",
   "execution_count": null,
   "metadata": {
    "collapsed": false,
    "scrolled": true
   },
   "outputs": [],
   "source": [
    "# less precise (just first 10 digits, gives us neighborhood level precision)\n",
    "df['geohash10d']=df[['lat','lon']].apply(lambda x: geohash.encode(x['lat'],x['lon'])[:10], axis=1)\n",
    "\n",
    "# let's try grouping by 9-digit geohash\n",
    "daily_locs = df[['geohash10d']].groupby(df.geohash10d).size()\n",
    "daily_locs.sort_values(inplace=True, ascending=False)\n",
    "print daily_locs[:20]"
   ]
  },
  {
   "cell_type": "code",
   "execution_count": null,
   "metadata": {
    "collapsed": false
   },
   "outputs": [],
   "source": [
    "plot(daily_locs.values[:10])\n",
    "title('location distribution')"
   ]
  },
  {
   "cell_type": "code",
   "execution_count": null,
   "metadata": {
    "collapsed": true
   },
   "outputs": [],
   "source": [
    "# pip install gmaps\n",
    "import gmaps\n",
    "import gmaps.datasets\n",
    "\n",
    "api_key = ''\n",
    "\n",
    "# insert Google API key\n",
    "gmaps.configure(api_key=api_key)\n"
   ]
  },
  {
   "cell_type": "code",
   "execution_count": null,
   "metadata": {
    "collapsed": true
   },
   "outputs": [],
   "source": [
    "# array of (latitude, longitude) pairs\n",
    "data = [geohash.decode(ghash) for ghash,val in daily_locs[:100].to_dict().items()]"
   ]
  },
  {
   "cell_type": "code",
   "execution_count": null,
   "metadata": {
    "collapsed": false
   },
   "outputs": [],
   "source": [
    "# plot top locations\n",
    "\n",
    "def show_data_on_map(data):\n",
    "    # instantiate a gmaps object\n",
    "    m = gmaps.Map()\n",
    "\n",
    "    # add a layer (heatmap) to it using our data\n",
    "    heatmap_layer = gmaps.Heatmap(data=data)\n",
    "    heatmap_layer.gradient = ['white', 'red']\n",
    "    heatmap_layer.point_radius = 3\n",
    "    heatmap_layer.max_intensity = 1\n",
    "    m.add_layer(heatmap_layer)\n",
    "\n",
    "    return m"
   ]
  },
  {
   "cell_type": "code",
   "execution_count": null,
   "metadata": {
    "collapsed": false
   },
   "outputs": [],
   "source": [
    "daily_locs_sm = {ghash:val for ghash,val in daily_locs.to_dict().items() if val>2 and val<5}\n",
    "len(daily_locs_sm)"
   ]
  },
  {
   "cell_type": "code",
   "execution_count": null,
   "metadata": {
    "collapsed": false
   },
   "outputs": [],
   "source": [
    "# lets look at locations that were logged only 2-3 times\n",
    "\n",
    "data = [geohash.decode(ghash) for ghash,val in daily_locs_sm.items()]\n",
    "m = show_data_on_map(data)\n",
    "m"
   ]
  },
  {
   "cell_type": "code",
   "execution_count": null,
   "metadata": {
    "collapsed": false
   },
   "outputs": [],
   "source": []
  },
  {
   "cell_type": "code",
   "execution_count": null,
   "metadata": {
    "collapsed": true
   },
   "outputs": [],
   "source": [
    "# different level of precision"
   ]
  },
  {
   "cell_type": "code",
   "execution_count": null,
   "metadata": {
    "collapsed": false
   },
   "outputs": [],
   "source": [
    "# less precise (just first 8 digits, gives us neighborhood level precision)\n",
    "df['geohash8d']=df[['lat','lon']].apply(lambda x: geohash.encode(x['lat'],x['lon'])[:8], axis=1)\n",
    "\n",
    "# let's try grouping by 8-digit geohash\n",
    "daily_locs = df[['geohash8d']].groupby(df.geohash8d).size()\n",
    "daily_locs.sort(ascending=False)\n",
    "print daily_locs[:20]"
   ]
  },
  {
   "cell_type": "code",
   "execution_count": null,
   "metadata": {
    "collapsed": false
   },
   "outputs": [],
   "source": [
    "plot(daily_locs.values[:10])\n",
    "title('location distribution')"
   ]
  },
  {
   "cell_type": "code",
   "execution_count": null,
   "metadata": {
    "collapsed": true
   },
   "outputs": [],
   "source": []
  },
  {
   "cell_type": "markdown",
   "metadata": {},
   "source": [
    "## Google Places API"
   ]
  },
  {
   "cell_type": "code",
   "execution_count": null,
   "metadata": {
    "collapsed": false
   },
   "outputs": [],
   "source": [
    "# pip install python-google-places\n",
    "\n",
    "from googleplaces import GooglePlaces, types, lang\n",
    "\n",
    "google_places = GooglePlaces(api_key)"
   ]
  },
  {
   "cell_type": "code",
   "execution_count": null,
   "metadata": {
    "collapsed": false
   },
   "outputs": [],
   "source": [
    "# pip install geopy\n",
    "\n",
    "from geopy.distance import great_circle\n",
    "import geohash\n",
    "\n",
    "lat, lng = (40.7453019, -73.99033025)\n",
    "query_result = google_places.nearby_search(lat_lng={'lat':lat,'lng':lng}, radius=50)"
   ]
  },
  {
   "cell_type": "code",
   "execution_count": null,
   "metadata": {
    "collapsed": false
   },
   "outputs": [],
   "source": [
    "query_result.places"
   ]
  },
  {
   "cell_type": "code",
   "execution_count": null,
   "metadata": {
    "collapsed": false
   },
   "outputs": [],
   "source": [
    "place = query_result.places[0]"
   ]
  },
  {
   "cell_type": "code",
   "execution_count": null,
   "metadata": {
    "collapsed": false
   },
   "outputs": [],
   "source": [
    "place.get_details()"
   ]
  },
  {
   "cell_type": "code",
   "execution_count": null,
   "metadata": {
    "collapsed": false,
    "scrolled": true
   },
   "outputs": [],
   "source": [
    "place.details"
   ]
  },
  {
   "cell_type": "code",
   "execution_count": null,
   "metadata": {
    "collapsed": false
   },
   "outputs": [],
   "source": [
    "place.details.keys()"
   ]
  },
  {
   "cell_type": "code",
   "execution_count": null,
   "metadata": {
    "collapsed": false
   },
   "outputs": [],
   "source": [
    "place.details['name']"
   ]
  },
  {
   "cell_type": "code",
   "execution_count": null,
   "metadata": {
    "collapsed": false
   },
   "outputs": [],
   "source": [
    "place.details['types']"
   ]
  },
  {
   "cell_type": "markdown",
   "metadata": {},
   "source": [
    "- Great-circle distance: the shortest distance between two points on the surface of a sphere: https://en.wikipedia.org/wiki/Great-circle_distance"
   ]
  },
  {
   "cell_type": "code",
   "execution_count": null,
   "metadata": {
    "collapsed": false
   },
   "outputs": [],
   "source": [
    "# calculate distance from given location\n",
    "\n",
    "cur_ll = (float(place.geo_location['lat']),float(place.geo_location['lng']))\n",
    "cur_dist = round(great_circle((lat, lng),cur_ll).feet,2)\n",
    "cur_dist"
   ]
  },
  {
   "cell_type": "code",
   "execution_count": null,
   "metadata": {
    "collapsed": false
   },
   "outputs": [],
   "source": [
    "# This is the data that seems most useful for us from what's returned\n",
    "{\n",
    "    'name':place.name, \n",
    "    'types':place.types, \n",
    "    'address':place.formatted_address, \n",
    "    'll':cur_ll,\n",
    "    'dist':cur_dist\n",
    "}"
   ]
  },
  {
   "cell_type": "code",
   "execution_count": null,
   "metadata": {
    "collapsed": false,
    "scrolled": true
   },
   "outputs": [],
   "source": [
    "# let's put this all together into a helper function\n",
    "\n",
    "def get_goog_places(lat, lng):\n",
    "    \n",
    "    print lat,lng\n",
    "    \n",
    "    # radius is in meters\n",
    "    query_result = google_places.nearby_search(lat_lng={'lat':lat,'lng':lng}, radius=50)\n",
    "    to_return = []\n",
    "    \n",
    "    for place in query_result.places:\n",
    "        place.get_details()\n",
    "        cur_ll = (float(place.geo_location['lat']),float(place.geo_location['lng']))\n",
    "        cur_dist = round(great_circle((lat, lng),cur_ll).meters,2)\n",
    "        \n",
    "        # we don't care about identified places that are far away\n",
    "        if cur_dist>500:\n",
    "            continue\n",
    "        \n",
    "        ans = {\n",
    "                'name':place.name, \n",
    "                'types':place.types, \n",
    "                'address':place.formatted_address, \n",
    "                'll':cur_ll,\n",
    "                'dist':cur_dist\n",
    "            }\n",
    "        \n",
    "        to_return.append(ans)\n",
    "        \n",
    "    return to_return"
   ]
  },
  {
   "cell_type": "code",
   "execution_count": null,
   "metadata": {
    "collapsed": false,
    "scrolled": true
   },
   "outputs": [],
   "source": [
    "get_goog_places(40.743384,-73.992103)"
   ]
  },
  {
   "cell_type": "code",
   "execution_count": null,
   "metadata": {
    "collapsed": false
   },
   "outputs": [],
   "source": [
    "lat, lng = geohash.decode('9q8yywedtv')"
   ]
  },
  {
   "cell_type": "code",
   "execution_count": null,
   "metadata": {
    "collapsed": false
   },
   "outputs": [],
   "source": [
    "ans = get_goog_places(lat, lng)"
   ]
  },
  {
   "cell_type": "code",
   "execution_count": null,
   "metadata": {
    "collapsed": false,
    "scrolled": true
   },
   "outputs": [],
   "source": [
    "sorted(ans, key=lambda x: x['dist'])"
   ]
  },
  {
   "cell_type": "code",
   "execution_count": null,
   "metadata": {
    "collapsed": false
   },
   "outputs": [],
   "source": [
    "# now lets take our list from before and find likely venues\n",
    "venues = {}\n",
    "\n",
    "for ghash in daily_locs_sm:\n",
    "    lat, lng = geohash.decode(ghash)\n",
    "    ans = get_goog_places(lat, lng)\n",
    "    ans = sorted(ans, key=lambda x: x['dist'])\n",
    "    venues[ghash] = ans"
   ]
  },
  {
   "cell_type": "code",
   "execution_count": null,
   "metadata": {
    "collapsed": false
   },
   "outputs": [],
   "source": [
    "venues"
   ]
  },
  {
   "cell_type": "code",
   "execution_count": null,
   "metadata": {
    "collapsed": true
   },
   "outputs": [],
   "source": [
    "d = []\n",
    "for ghash, vals in venues.items():\n",
    "    for v in vals:\n",
    "        if v['dist']<50:\n",
    "            d.append(v)"
   ]
  },
  {
   "cell_type": "code",
   "execution_count": null,
   "metadata": {
    "collapsed": false
   },
   "outputs": [],
   "source": [
    "import pandas as pd\n",
    "\n",
    "df_venues = pd.DataFrame.from_records(d)\n",
    "df_venues.head()"
   ]
  },
  {
   "cell_type": "code",
   "execution_count": null,
   "metadata": {
    "collapsed": false
   },
   "outputs": [],
   "source": [
    "df_venues.groupby(df_venues.name).size().sort_values(ascending=False)"
   ]
  },
  {
   "cell_type": "code",
   "execution_count": null,
   "metadata": {
    "collapsed": true
   },
   "outputs": [],
   "source": []
  },
  {
   "cell_type": "code",
   "execution_count": null,
   "metadata": {
    "collapsed": true
   },
   "outputs": [],
   "source": [
    "# save our data\n",
    "\n",
    "pickle.dump(df, open('ssoc_df_3.p','wb'))"
   ]
  },
  {
   "cell_type": "code",
   "execution_count": null,
   "metadata": {
    "collapsed": true
   },
   "outputs": [],
   "source": []
  },
  {
   "cell_type": "markdown",
   "metadata": {},
   "source": [
    "## Questions"
   ]
  },
  {
   "cell_type": "markdown",
   "metadata": {},
   "source": [
    "1. Describe your target's interests - use geohashes to group your target's locations and identify top likely venues using Google's Location API.\n",
    "\n",
    "2. What type of venues does your target tend to visit? Plot out a few data points (ex: histogram of breakdown of venue types). \n",
    "\n",
    "3. Over the last two weeks we did this manually. This week use code and other tools we've learned in class to go over a larger dataset and come to conclusions about your Target."
   ]
  },
  {
   "cell_type": "code",
   "execution_count": null,
   "metadata": {
    "collapsed": true
   },
   "outputs": [],
   "source": []
  },
  {
   "cell_type": "code",
   "execution_count": null,
   "metadata": {
    "collapsed": true
   },
   "outputs": [],
   "source": []
  }
 ],
 "metadata": {
  "kernelspec": {
   "display_name": "Python 2",
   "language": "python",
   "name": "python2"
  },
  "language_info": {
   "codemirror_mode": {
    "name": "ipython",
    "version": 2
   },
   "file_extension": ".py",
   "mimetype": "text/x-python",
   "name": "python",
   "nbconvert_exporter": "python",
   "pygments_lexer": "ipython2",
   "version": "2.7.10"
  },
  "widgets": {
   "state": {
    "5fa71fd14d974765a83ecc70fa068371": {
     "views": [
      {
       "cell_index": 16
      }
     ]
    }
   },
   "version": "1.2.0"
  }
 },
 "nbformat": 4,
 "nbformat_minor": 1
}
