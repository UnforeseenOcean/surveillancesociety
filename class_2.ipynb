{
 "cells": [
  {
   "cell_type": "code",
   "execution_count": null,
   "metadata": {
    "collapsed": false
   },
   "outputs": [],
   "source": [
    "%pylab inline\n",
    "\n",
    "import seaborn as sns\n",
    "import pickle\n",
    "\n",
    "df = pickle.load(open('ssoc_df_1.p','rb'))"
   ]
  },
  {
   "cell_type": "code",
   "execution_count": null,
   "metadata": {
    "collapsed": false
   },
   "outputs": [],
   "source": [
    "df.head()"
   ]
  },
  {
   "cell_type": "code",
   "execution_count": null,
   "metadata": {
    "collapsed": true
   },
   "outputs": [],
   "source": [
    "from datetime import datetime\n",
    "\n",
    "# unixtime into datetime\n",
    "def parse_timestamp(ts):\n",
    "    ts = int(ts) / 1000\n",
    "    return datetime.fromtimestamp(ts)\n",
    "\n",
    "# round to the closest hour\n",
    "def parse_hourly(dt):\n",
    "    dt = dt.replace(minute=0)\n",
    "    dt = dt.replace(second=0)\n",
    "    return dt\n",
    "\n",
    "# hour of day\n",
    "def extract_hour(dt):\n",
    "    return int(dt.hour)\n",
    "\n",
    "# Monday == 0, Sunday == 6\n",
    "def extract_weekday(dt):\n",
    "    return int(dt.weekday())\n",
    "\n",
    "# date: round to the closest day\n",
    "def parse_date(dt):\n",
    "    dt = dt.replace(hour=0)\n",
    "    dt = dt.replace(minute=0)\n",
    "    dt = dt.replace(second=0)\n",
    "    return dt"
   ]
  },
  {
   "cell_type": "code",
   "execution_count": null,
   "metadata": {
    "collapsed": true
   },
   "outputs": [],
   "source": [
    "df['dt']=df[['timestampMs']].apply(lambda x: parse_timestamp(x['timestampMs']), axis=1)"
   ]
  },
  {
   "cell_type": "code",
   "execution_count": null,
   "metadata": {
    "collapsed": true
   },
   "outputs": [],
   "source": [
    "df['d']=df[['dt']].apply(lambda x: parse_date(x['dt']), axis=1)"
   ]
  },
  {
   "cell_type": "code",
   "execution_count": null,
   "metadata": {
    "collapsed": true
   },
   "outputs": [],
   "source": [
    "df['hr']=df[['dt']].apply(lambda x: parse_hourly(x['dt']), axis=1)"
   ]
  },
  {
   "cell_type": "code",
   "execution_count": null,
   "metadata": {
    "collapsed": true
   },
   "outputs": [],
   "source": [
    "df['h']=df[['dt']].apply(lambda x: extract_hour(x['dt']), axis=1)"
   ]
  },
  {
   "cell_type": "code",
   "execution_count": null,
   "metadata": {
    "collapsed": true
   },
   "outputs": [],
   "source": [
    "df['w']=df[['dt']].apply(lambda x: extract_weekday(x['dt']), axis=1)"
   ]
  },
  {
   "cell_type": "code",
   "execution_count": null,
   "metadata": {
    "collapsed": false
   },
   "outputs": [],
   "source": [
    "df.head()"
   ]
  },
  {
   "cell_type": "code",
   "execution_count": null,
   "metadata": {
    "collapsed": false
   },
   "outputs": [],
   "source": [
    "# display data over time, grouped by day\n",
    "\n",
    "df.groupby(df.d).size().plot(figsize=(14,4))\n",
    "title('logged items over time (daily)')\n",
    "xlabel('day')\n",
    "ylabel('number of rows in data')"
   ]
  },
  {
   "cell_type": "code",
   "execution_count": null,
   "metadata": {
    "collapsed": false
   },
   "outputs": [],
   "source": [
    "# lets zoom in\n",
    "\n",
    "sm_df = df.set_index(df.dt)['2016-10-17':'2016-10-27']\n",
    "sm_df.groupby(sm_df.d).size().plot(figsize=(14,4))"
   ]
  },
  {
   "cell_type": "code",
   "execution_count": null,
   "metadata": {
    "collapsed": false,
    "scrolled": true
   },
   "outputs": [],
   "source": [
    "sm_df['2016-10-23']"
   ]
  },
  {
   "cell_type": "code",
   "execution_count": null,
   "metadata": {
    "collapsed": false
   },
   "outputs": [],
   "source": [
    "# grouped by hourly activity\n",
    "\n",
    "df.groupby(df.hr).size().plot(figsize=(14,4))\n",
    "title('logged items over time (hourly)')"
   ]
  },
  {
   "cell_type": "code",
   "execution_count": null,
   "metadata": {
    "collapsed": false
   },
   "outputs": [],
   "source": [
    "# total activity by hour of day\n",
    "\n",
    "df.groupby(df.h).size().plot(figsize=(14,4))\n",
    "title('logged items by hour of day')\n",
    "xlabel('hour')\n",
    "ylabel('total rows')"
   ]
  },
  {
   "cell_type": "code",
   "execution_count": null,
   "metadata": {
    "collapsed": false
   },
   "outputs": [],
   "source": [
    "# average velocity per day\n",
    "\n",
    "df.groupby(df.d)['velocity'].mean().plot(figsize=(14,4))\n",
    "title('avg. velocity per day')\n",
    "xlabel('day')\n",
    "ylabel('avg velocity')"
   ]
  },
  {
   "cell_type": "code",
   "execution_count": null,
   "metadata": {
    "collapsed": false
   },
   "outputs": [],
   "source": [
    "# by setting the index to the datetime field, we can select specific times like this:\n",
    "\n",
    "sm_vel = df.set_index(df.dt)['2016-05':'2016-06']['velocity']\n",
    "sm_vel.groupby(sm_vel.index).mean().plot(figsize=(14,4))"
   ]
  },
  {
   "cell_type": "code",
   "execution_count": null,
   "metadata": {
    "collapsed": false
   },
   "outputs": [],
   "source": [
    "# now we further zoom into a week\n",
    "\n",
    "sm_vel = df.set_index(df.dt)['2016-05-8':'2016-05-14']['velocity']\n",
    "sm_vel.groupby(sm_vel.index).mean().plot(figsize=(14,4))"
   ]
  },
  {
   "cell_type": "code",
   "execution_count": null,
   "metadata": {
    "collapsed": true
   },
   "outputs": [],
   "source": []
  },
  {
   "cell_type": "code",
   "execution_count": null,
   "metadata": {
    "collapsed": false
   },
   "outputs": [],
   "source": [
    "# total activity by day of the week\n",
    "# Monday == 0, Sunday == 6\n",
    "\n",
    "df.groupby(df.w).size().plot(figsize=(14,4))\n",
    "title('aggregate activity by day of the week')\n",
    "xlabel('day of week')\n",
    "ylabel('total rows')"
   ]
  },
  {
   "cell_type": "code",
   "execution_count": null,
   "metadata": {
    "collapsed": false,
    "scrolled": false
   },
   "outputs": [],
   "source": [
    "# filter by value of a row\n",
    "DAY_OF_WEEK = {0:'Monday', 1:'Tuesday', 2:'Wednesday', 3:'Thursday', 4:'Friday', 5:'Saturday', 6:'Sunday'}\n",
    "\n",
    "# plot total hourly activity\n",
    "for k,v in df.groupby(df.w):\n",
    "    print k, len(v)\n",
    "    v.groupby(df.h).size().plot(figsize=(14,6), label=DAY_OF_WEEK[k])\n",
    "    \n",
    "legend()\n",
    "title('hourly data by day of week')"
   ]
  },
  {
   "cell_type": "code",
   "execution_count": null,
   "metadata": {
    "collapsed": false
   },
   "outputs": [],
   "source": [
    "grouped = df[['accuracy','altitude','velocity','w']].groupby('w')\n",
    "grouped.get_group(4)[['accuracy','altitude','velocity']].hist(bins=30,figsize=(14,8))\n",
    "print DAY_OF_WEEK[4]"
   ]
  },
  {
   "cell_type": "code",
   "execution_count": null,
   "metadata": {
    "collapsed": false
   },
   "outputs": [],
   "source": [
    "# altitude by hour\n",
    "\n",
    "df[['hr','altitude']].dropna().groupby(df.hr).mean().plot()\n",
    "title('altitude (hourly mean)')"
   ]
  },
  {
   "cell_type": "code",
   "execution_count": null,
   "metadata": {
    "collapsed": false
   },
   "outputs": [],
   "source": [
    "df[['hr','heading']].dropna().groupby(df.hr).mean().plot()\n",
    "title('heading (hourly mean)')"
   ]
  },
  {
   "cell_type": "code",
   "execution_count": null,
   "metadata": {
    "collapsed": false
   },
   "outputs": [],
   "source": [
    "# velocity - hourly mean\n",
    "\n",
    "df[['hr','velocity']].dropna().groupby(df.hr).mean().plot()\n",
    "title('velocity (hourly mean) over time')"
   ]
  },
  {
   "cell_type": "code",
   "execution_count": null,
   "metadata": {
    "collapsed": false
   },
   "outputs": [],
   "source": [
    "# velocity - avg per hour of day\n",
    "df[['velocity']].dropna().groupby(df.h).median().plot()\n",
    "title('avg. velocity by hour of day')"
   ]
  },
  {
   "cell_type": "code",
   "execution_count": null,
   "metadata": {
    "collapsed": false
   },
   "outputs": [],
   "source": [
    "df[['velocity']].dropna(0).groupby(df.w).mean().plot()\n",
    "title('avg. velocity by day of week')\n",
    "\n",
    "# Monday = 0"
   ]
  },
  {
   "cell_type": "code",
   "execution_count": null,
   "metadata": {
    "collapsed": false
   },
   "outputs": [],
   "source": [
    "df[['velocity']].dropna(0).groupby(df.w).mean().plot()\n",
    "title('avg. velocity by day of week')\n",
    "\n",
    "# Monday = 0"
   ]
  },
  {
   "cell_type": "code",
   "execution_count": null,
   "metadata": {
    "collapsed": false
   },
   "outputs": [],
   "source": [
    "# what does this plot tell us?\n",
    "\n",
    "sns.boxplot(df.velocity, groupby=df.h)"
   ]
  },
  {
   "cell_type": "code",
   "execution_count": null,
   "metadata": {
    "collapsed": false
   },
   "outputs": [],
   "source": [
    "sns.boxplot(df.altitude, groupby=df.w)"
   ]
  },
  {
   "cell_type": "code",
   "execution_count": null,
   "metadata": {
    "collapsed": false
   },
   "outputs": [],
   "source": [
    "sns.boxplot(df.altitude[[x<2000 for x in df.altitude]], groupby=df.w)"
   ]
  },
  {
   "cell_type": "code",
   "execution_count": null,
   "metadata": {
    "collapsed": false,
    "scrolled": false
   },
   "outputs": [],
   "source": [
    "#from pandas.tools.plotting import scatter_matrix\n",
    "\n",
    "#scatter_matrix(df[['velocity','verticalAccuracy','heading','altitude','accuracy']], alpha=0.2, figsize=(16, 16), diagonal='kde')"
   ]
  },
  {
   "cell_type": "code",
   "execution_count": null,
   "metadata": {
    "collapsed": true
   },
   "outputs": [],
   "source": []
  },
  {
   "cell_type": "markdown",
   "metadata": {
    "collapsed": true
   },
   "source": [
    "## Top Locations"
   ]
  },
  {
   "cell_type": "code",
   "execution_count": null,
   "metadata": {
    "collapsed": true
   },
   "outputs": [],
   "source": [
    "# rounding lat/lon to two decimal places\n",
    "\n",
    "df['lat_r2'] = df.lat.apply(lambda x: round(x,2))\n",
    "df['lon_r2'] = df.lon.apply(lambda x: round(x,2))"
   ]
  },
  {
   "cell_type": "code",
   "execution_count": null,
   "metadata": {
    "collapsed": false
   },
   "outputs": [],
   "source": [
    "df.head()"
   ]
  },
  {
   "cell_type": "code",
   "execution_count": null,
   "metadata": {
    "collapsed": false
   },
   "outputs": [],
   "source": [
    "# now lets group by top lat/lon pairs\n",
    "\n",
    "df.groupby(['lat_r2','lon_r2']).size().order(ascending=False)[:30]\n"
   ]
  },
  {
   "cell_type": "code",
   "execution_count": null,
   "metadata": {
    "collapsed": true
   },
   "outputs": [],
   "source": [
    "# why is the data strange here? what can we do to fix this problem?"
   ]
  },
  {
   "cell_type": "code",
   "execution_count": null,
   "metadata": {
    "collapsed": true
   },
   "outputs": [],
   "source": []
  },
  {
   "cell_type": "code",
   "execution_count": null,
   "metadata": {
    "collapsed": true
   },
   "outputs": [],
   "source": [
    "# save our data\n",
    "\n",
    "pickle.dump(df, open('ssoc_df_2.p','wb'))"
   ]
  },
  {
   "cell_type": "code",
   "execution_count": null,
   "metadata": {
    "collapsed": true
   },
   "outputs": [],
   "source": []
  },
  {
   "cell_type": "markdown",
   "metadata": {},
   "source": [
    "## Questions"
   ]
  },
  {
   "cell_type": "markdown",
   "metadata": {},
   "source": [
    "1. Describe temporal patterns that you see in your target's behavior.\n",
    "    - Are they more active on certain days of the week?\n",
    "    - When do they tend to wake up? Go to sleep?\n",
    "    - Any other daily/weekly/monthly patterns?\n",
    "\n",
    "2. Identify your target's top 10 locations using lat/lon pair groupings. How granular do you need to go (in terms of rounding to the nearest decimal point)?\n",
    "\n",
    "3. Describe the demographics of your target. Do you have a good sense of their race, ethnicity, gender, age? \n",
    "    - Try to use census data to help answer this question.\n",
    "    - The provided file (nyc_census.csv) was taken from here - http://www1.nyc.gov/site/planning/data-maps/nyc-population/census-2010.page - and includes counts per race for every NTA (Neighborhood Tabulation Area).\n",
    "    - Feel free to use other data."
   ]
  }
 ],
 "metadata": {
  "kernelspec": {
   "display_name": "Python 2",
   "language": "python",
   "name": "python2"
  },
  "language_info": {
   "codemirror_mode": {
    "name": "ipython",
    "version": 2
   },
   "file_extension": ".py",
   "mimetype": "text/x-python",
   "name": "python",
   "nbconvert_exporter": "python",
   "pygments_lexer": "ipython2",
   "version": "2.7.10"
  }
 },
 "nbformat": 4,
 "nbformat_minor": 1
}
