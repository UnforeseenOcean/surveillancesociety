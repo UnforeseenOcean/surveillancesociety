{
 "cells": [
  {
   "cell_type": "markdown",
   "metadata": {},
   "source": [
    "## Surveillance Society - class 1"
   ]
  },
  {
   "cell_type": "markdown",
   "metadata": {},
   "source": [
    "- Our data is logged through Google Location History: https://www.google.com/maps/timeline\n",
    "- And exported using Google Checkout: https://takeout.google.com/settings/takeout"
   ]
  },
  {
   "cell_type": "code",
   "execution_count": 1,
   "metadata": {
    "collapsed": true
   },
   "outputs": [],
   "source": [
    "# Let's load it into a python dictionary\n",
    "\n",
    "import json\n",
    "\n",
    "floc = 'data/'\n",
    "fname = 'gilad.json'\n",
    "\n",
    "j = json.loads(open(floc+fname, 'r').read())"
   ]
  },
  {
   "cell_type": "code",
   "execution_count": 3,
   "metadata": {
    "collapsed": false
   },
   "outputs": [
    {
     "name": "stdout",
     "output_type": "stream",
     "text": [
      "number of entries: 13151\n"
     ]
    }
   ],
   "source": [
    "print 'number of entries:',len(j['locations'])"
   ]
  },
  {
   "cell_type": "code",
   "execution_count": 4,
   "metadata": {
    "collapsed": false
   },
   "outputs": [
    {
     "name": "stdout",
     "output_type": "stream",
     "text": [
      "latitudeE7 407431000\n",
      "altitude 18\n",
      "longitudeE7 -739922309\n",
      "timestampMs 1478481728496\n",
      "verticalAccuracy 10\n",
      "accuracy 65\n",
      "\n",
      "latitudeE7 407434000\n",
      "accuracy 74\n",
      "longitudeE7 -739920578\n",
      "timestampMs 1478481502723\n",
      "\n",
      "latitudeE7 407453367\n",
      "accuracy 53\n",
      "longitudeE7 -739910078\n",
      "timestampMs 1478481445723\n",
      "\n",
      "latitudeE7 407453367\n",
      "accuracy 58\n",
      "longitudeE7 -739910078\n",
      "timestampMs 1478481023723\n",
      "\n",
      "latitudeE7 407433845\n",
      "accuracy 59\n",
      "longitudeE7 -739921026\n",
      "timestampMs 1478480921723\n",
      "\n",
      "latitudeE7 407430858\n",
      "altitude 18\n",
      "longitudeE7 -739923078\n",
      "timestampMs 1478480247445\n",
      "verticalAccuracy 10\n",
      "accuracy 65\n",
      "\n",
      "latitudeE7 407438930\n",
      "altitude 17\n",
      "longitudeE7 -739918018\n",
      "timestampMs 1478478796841\n",
      "verticalAccuracy 10\n",
      "accuracy 73\n",
      "\n",
      "latitudeE7 407444887\n",
      "altitude 17\n",
      "longitudeE7 -739914572\n",
      "timestampMs 1478474592268\n",
      "verticalAccuracy 10\n",
      "accuracy 155\n",
      "\n",
      "latitudeE7 407429484\n",
      "altitude 19\n",
      "longitudeE7 -739923831\n",
      "timestampMs 1478473866247\n",
      "verticalAccuracy 10\n",
      "accuracy 65\n",
      "\n",
      "latitudeE7 407431406\n",
      "accuracy 91\n",
      "longitudeE7 -739922751\n",
      "timestampMs 1478473858594\n",
      "\n"
     ]
    }
   ],
   "source": [
    "# different fields are filled at different points in time\n",
    "\n",
    "for i in range(10):\n",
    "\n",
    "    for k,v in j['locations'][i].items():\n",
    "        print k,v\n",
    "        \n",
    "    print ''\n"
   ]
  },
  {
   "cell_type": "markdown",
   "metadata": {},
   "source": [
    "## Pandas Dataframe"
   ]
  },
  {
   "cell_type": "code",
   "execution_count": 5,
   "metadata": {
    "collapsed": false
   },
   "outputs": [
    {
     "name": "stdout",
     "output_type": "stream",
     "text": [
      "There are 13151 rows\n"
     ]
    }
   ],
   "source": [
    "import pandas as pd\n",
    "\n",
    "df = pd.DataFrame.from_dict(j['locations'])\n",
    "print('There are %s rows' % len(df))"
   ]
  },
  {
   "cell_type": "code",
   "execution_count": 6,
   "metadata": {
    "collapsed": false
   },
   "outputs": [
    {
     "data": {
      "text/html": [
       "<div>\n",
       "<table border=\"1\" class=\"dataframe\">\n",
       "  <thead>\n",
       "    <tr style=\"text-align: right;\">\n",
       "      <th></th>\n",
       "      <th>accuracy</th>\n",
       "      <th>altitude</th>\n",
       "      <th>heading</th>\n",
       "      <th>latitudeE7</th>\n",
       "      <th>longitudeE7</th>\n",
       "      <th>timestampMs</th>\n",
       "      <th>velocity</th>\n",
       "      <th>verticalAccuracy</th>\n",
       "    </tr>\n",
       "  </thead>\n",
       "  <tbody>\n",
       "    <tr>\n",
       "      <th>0</th>\n",
       "      <td>65</td>\n",
       "      <td>18.0</td>\n",
       "      <td>NaN</td>\n",
       "      <td>407431000</td>\n",
       "      <td>-739922309</td>\n",
       "      <td>1478481728496</td>\n",
       "      <td>NaN</td>\n",
       "      <td>10.0</td>\n",
       "    </tr>\n",
       "    <tr>\n",
       "      <th>1</th>\n",
       "      <td>74</td>\n",
       "      <td>NaN</td>\n",
       "      <td>NaN</td>\n",
       "      <td>407434000</td>\n",
       "      <td>-739920578</td>\n",
       "      <td>1478481502723</td>\n",
       "      <td>NaN</td>\n",
       "      <td>NaN</td>\n",
       "    </tr>\n",
       "    <tr>\n",
       "      <th>2</th>\n",
       "      <td>53</td>\n",
       "      <td>NaN</td>\n",
       "      <td>NaN</td>\n",
       "      <td>407453367</td>\n",
       "      <td>-739910078</td>\n",
       "      <td>1478481445723</td>\n",
       "      <td>NaN</td>\n",
       "      <td>NaN</td>\n",
       "    </tr>\n",
       "    <tr>\n",
       "      <th>3</th>\n",
       "      <td>58</td>\n",
       "      <td>NaN</td>\n",
       "      <td>NaN</td>\n",
       "      <td>407453367</td>\n",
       "      <td>-739910078</td>\n",
       "      <td>1478481023723</td>\n",
       "      <td>NaN</td>\n",
       "      <td>NaN</td>\n",
       "    </tr>\n",
       "    <tr>\n",
       "      <th>4</th>\n",
       "      <td>59</td>\n",
       "      <td>NaN</td>\n",
       "      <td>NaN</td>\n",
       "      <td>407433845</td>\n",
       "      <td>-739921026</td>\n",
       "      <td>1478480921723</td>\n",
       "      <td>NaN</td>\n",
       "      <td>NaN</td>\n",
       "    </tr>\n",
       "  </tbody>\n",
       "</table>\n",
       "</div>"
      ],
      "text/plain": [
       "   accuracy  altitude  heading  latitudeE7  longitudeE7    timestampMs  \\\n",
       "0        65      18.0      NaN   407431000   -739922309  1478481728496   \n",
       "1        74       NaN      NaN   407434000   -739920578  1478481502723   \n",
       "2        53       NaN      NaN   407453367   -739910078  1478481445723   \n",
       "3        58       NaN      NaN   407453367   -739910078  1478481023723   \n",
       "4        59       NaN      NaN   407433845   -739921026  1478480921723   \n",
       "\n",
       "   velocity  verticalAccuracy  \n",
       "0       NaN              10.0  \n",
       "1       NaN               NaN  \n",
       "2       NaN               NaN  \n",
       "3       NaN               NaN  \n",
       "4       NaN               NaN  "
      ]
     },
     "execution_count": 6,
     "metadata": {},
     "output_type": "execute_result"
    }
   ],
   "source": [
    "df.head()"
   ]
  },
  {
   "cell_type": "code",
   "execution_count": 7,
   "metadata": {
    "collapsed": false
   },
   "outputs": [
    {
     "data": {
      "text/html": [
       "<div>\n",
       "<table border=\"1\" class=\"dataframe\">\n",
       "  <thead>\n",
       "    <tr style=\"text-align: right;\">\n",
       "      <th></th>\n",
       "      <th>accuracy</th>\n",
       "      <th>altitude</th>\n",
       "      <th>heading</th>\n",
       "      <th>latitudeE7</th>\n",
       "      <th>longitudeE7</th>\n",
       "      <th>timestampMs</th>\n",
       "      <th>velocity</th>\n",
       "      <th>verticalAccuracy</th>\n",
       "    </tr>\n",
       "  </thead>\n",
       "  <tbody>\n",
       "    <tr>\n",
       "      <th>0</th>\n",
       "      <td>65</td>\n",
       "      <td>18.0</td>\n",
       "      <td>0.0</td>\n",
       "      <td>407431000</td>\n",
       "      <td>-739922309</td>\n",
       "      <td>1478481728496</td>\n",
       "      <td>0.0</td>\n",
       "      <td>10.0</td>\n",
       "    </tr>\n",
       "    <tr>\n",
       "      <th>1</th>\n",
       "      <td>74</td>\n",
       "      <td>0.0</td>\n",
       "      <td>0.0</td>\n",
       "      <td>407434000</td>\n",
       "      <td>-739920578</td>\n",
       "      <td>1478481502723</td>\n",
       "      <td>0.0</td>\n",
       "      <td>0.0</td>\n",
       "    </tr>\n",
       "    <tr>\n",
       "      <th>2</th>\n",
       "      <td>53</td>\n",
       "      <td>0.0</td>\n",
       "      <td>0.0</td>\n",
       "      <td>407453367</td>\n",
       "      <td>-739910078</td>\n",
       "      <td>1478481445723</td>\n",
       "      <td>0.0</td>\n",
       "      <td>0.0</td>\n",
       "    </tr>\n",
       "    <tr>\n",
       "      <th>3</th>\n",
       "      <td>58</td>\n",
       "      <td>0.0</td>\n",
       "      <td>0.0</td>\n",
       "      <td>407453367</td>\n",
       "      <td>-739910078</td>\n",
       "      <td>1478481023723</td>\n",
       "      <td>0.0</td>\n",
       "      <td>0.0</td>\n",
       "    </tr>\n",
       "    <tr>\n",
       "      <th>4</th>\n",
       "      <td>59</td>\n",
       "      <td>0.0</td>\n",
       "      <td>0.0</td>\n",
       "      <td>407433845</td>\n",
       "      <td>-739921026</td>\n",
       "      <td>1478480921723</td>\n",
       "      <td>0.0</td>\n",
       "      <td>0.0</td>\n",
       "    </tr>\n",
       "  </tbody>\n",
       "</table>\n",
       "</div>"
      ],
      "text/plain": [
       "   accuracy  altitude  heading  latitudeE7  longitudeE7    timestampMs  \\\n",
       "0        65      18.0      0.0   407431000   -739922309  1478481728496   \n",
       "1        74       0.0      0.0   407434000   -739920578  1478481502723   \n",
       "2        53       0.0      0.0   407453367   -739910078  1478481445723   \n",
       "3        58       0.0      0.0   407453367   -739910078  1478481023723   \n",
       "4        59       0.0      0.0   407433845   -739921026  1478480921723   \n",
       "\n",
       "   velocity  verticalAccuracy  \n",
       "0       0.0              10.0  \n",
       "1       0.0               0.0  \n",
       "2       0.0               0.0  \n",
       "3       0.0               0.0  \n",
       "4       0.0               0.0  "
      ]
     },
     "execution_count": 7,
     "metadata": {},
     "output_type": "execute_result"
    }
   ],
   "source": [
    "df.fillna(0).head()"
   ]
  },
  {
   "cell_type": "code",
   "execution_count": 8,
   "metadata": {
    "collapsed": false
   },
   "outputs": [
    {
     "data": {
      "text/html": [
       "<div>\n",
       "<table border=\"1\" class=\"dataframe\">\n",
       "  <thead>\n",
       "    <tr style=\"text-align: right;\">\n",
       "      <th></th>\n",
       "      <th>accuracy</th>\n",
       "      <th>altitude</th>\n",
       "      <th>heading</th>\n",
       "      <th>latitudeE7</th>\n",
       "      <th>longitudeE7</th>\n",
       "      <th>timestampMs</th>\n",
       "      <th>velocity</th>\n",
       "      <th>verticalAccuracy</th>\n",
       "      <th>lat</th>\n",
       "      <th>lon</th>\n",
       "    </tr>\n",
       "  </thead>\n",
       "  <tbody>\n",
       "    <tr>\n",
       "      <th>0</th>\n",
       "      <td>65</td>\n",
       "      <td>18.0</td>\n",
       "      <td>NaN</td>\n",
       "      <td>407431000</td>\n",
       "      <td>-739922309</td>\n",
       "      <td>1478481728496</td>\n",
       "      <td>NaN</td>\n",
       "      <td>10.0</td>\n",
       "      <td>40.743100</td>\n",
       "      <td>-73.992231</td>\n",
       "    </tr>\n",
       "    <tr>\n",
       "      <th>1</th>\n",
       "      <td>74</td>\n",
       "      <td>NaN</td>\n",
       "      <td>NaN</td>\n",
       "      <td>407434000</td>\n",
       "      <td>-739920578</td>\n",
       "      <td>1478481502723</td>\n",
       "      <td>NaN</td>\n",
       "      <td>NaN</td>\n",
       "      <td>40.743400</td>\n",
       "      <td>-73.992058</td>\n",
       "    </tr>\n",
       "    <tr>\n",
       "      <th>2</th>\n",
       "      <td>53</td>\n",
       "      <td>NaN</td>\n",
       "      <td>NaN</td>\n",
       "      <td>407453367</td>\n",
       "      <td>-739910078</td>\n",
       "      <td>1478481445723</td>\n",
       "      <td>NaN</td>\n",
       "      <td>NaN</td>\n",
       "      <td>40.745337</td>\n",
       "      <td>-73.991008</td>\n",
       "    </tr>\n",
       "    <tr>\n",
       "      <th>3</th>\n",
       "      <td>58</td>\n",
       "      <td>NaN</td>\n",
       "      <td>NaN</td>\n",
       "      <td>407453367</td>\n",
       "      <td>-739910078</td>\n",
       "      <td>1478481023723</td>\n",
       "      <td>NaN</td>\n",
       "      <td>NaN</td>\n",
       "      <td>40.745337</td>\n",
       "      <td>-73.991008</td>\n",
       "    </tr>\n",
       "    <tr>\n",
       "      <th>4</th>\n",
       "      <td>59</td>\n",
       "      <td>NaN</td>\n",
       "      <td>NaN</td>\n",
       "      <td>407433845</td>\n",
       "      <td>-739921026</td>\n",
       "      <td>1478480921723</td>\n",
       "      <td>NaN</td>\n",
       "      <td>NaN</td>\n",
       "      <td>40.743384</td>\n",
       "      <td>-73.992103</td>\n",
       "    </tr>\n",
       "  </tbody>\n",
       "</table>\n",
       "</div>"
      ],
      "text/plain": [
       "   accuracy  altitude  heading  latitudeE7  longitudeE7    timestampMs  \\\n",
       "0        65      18.0      NaN   407431000   -739922309  1478481728496   \n",
       "1        74       NaN      NaN   407434000   -739920578  1478481502723   \n",
       "2        53       NaN      NaN   407453367   -739910078  1478481445723   \n",
       "3        58       NaN      NaN   407453367   -739910078  1478481023723   \n",
       "4        59       NaN      NaN   407433845   -739921026  1478480921723   \n",
       "\n",
       "   velocity  verticalAccuracy        lat        lon  \n",
       "0       NaN              10.0  40.743100 -73.992231  \n",
       "1       NaN               NaN  40.743400 -73.992058  \n",
       "2       NaN               NaN  40.745337 -73.991008  \n",
       "3       NaN               NaN  40.745337 -73.991008  \n",
       "4       NaN               NaN  40.743384 -73.992103  "
      ]
     },
     "execution_count": 8,
     "metadata": {},
     "output_type": "execute_result"
    }
   ],
   "source": [
    "# convert lat, lon to decimalized degrees\n",
    "\n",
    "df['lat'] = df['latitudeE7'] / 10.**7\n",
    "df['lon'] = df['longitudeE7'] / 10.**7\n",
    "df.head()"
   ]
  },
  {
   "cell_type": "markdown",
   "metadata": {},
   "source": [
    "## Exploring our data"
   ]
  },
  {
   "cell_type": "code",
   "execution_count": 24,
   "metadata": {
    "collapsed": false
   },
   "outputs": [
    {
     "name": "stdout",
     "output_type": "stream",
     "text": [
      "Populating the interactive namespace from numpy and matplotlib\n"
     ]
    },
    {
     "data": {
      "text/plain": [
       "<matplotlib.text.Text at 0x11656d890>"
      ]
     },
     "execution_count": 24,
     "metadata": {},
     "output_type": "execute_result"
    },
    {
     "data": {
      "image/png": "[encoded data removed]",
      "text/plain": [
       "<matplotlib.figure.Figure at 0x1162ad750>"
      ]
     },
     "metadata": {},
     "output_type": "display_data"
    }
   ],
   "source": [
    "%pylab inline\n",
    "\n",
    "df.altitude.plot()\n",
    "title('altitude')"
   ]
  },
  {
   "cell_type": "code",
   "execution_count": 26,
   "metadata": {
    "collapsed": false
   },
   "outputs": [
    {
     "data": {
      "text/plain": [
       "<matplotlib.text.Text at 0x1167ca590>"
      ]
     },
     "execution_count": 26,
     "metadata": {},
     "output_type": "execute_result"
    },
    {
     "data": {
      "image/png": "[encoded data removed]",
      "text/plain": [
       "<matplotlib.figure.Figure at 0x114bb41d0>"
      ]
     },
     "metadata": {},
     "output_type": "display_data"
    }
   ],
   "source": [
    "# we can use the seaborn library for prettier plotting (many more examples here - http://seaborn.pydata.org/)\n",
    "import seaborn as sns\n",
    "sns.set(color_codes=True)\n",
    "\n",
    "df.accuracy.plot(figsize=(10,4))\n",
    "title('accuracy')"
   ]
  },
  {
   "cell_type": "code",
   "execution_count": 11,
   "metadata": {
    "collapsed": false
   },
   "outputs": [
    {
     "data": {
      "text/plain": [
       "0       65\n",
       "1       74\n",
       "2       53\n",
       "3       58\n",
       "4       59\n",
       "5       65\n",
       "6       73\n",
       "7      155\n",
       "8       65\n",
       "9       91\n",
       "10      10\n",
       "11    1427\n",
       "12      30\n",
       "13    2896\n",
       "14      10\n",
       "Name: accuracy, dtype: int64"
      ]
     },
     "execution_count": 11,
     "metadata": {},
     "output_type": "execute_result"
    }
   ],
   "source": [
    "df.accuracy[:15]"
   ]
  },
  {
   "cell_type": "code",
   "execution_count": 12,
   "metadata": {
    "collapsed": false
   },
   "outputs": [
    {
     "name": "stdout",
     "output_type": "stream",
     "text": [
      "N: 13151\n",
      "mean: 78.4939548323\n",
      "median: 13.0\n",
      "mode: 0    10\n",
      "dtype: int64\n",
      "std: 486.71500138\n",
      "max: 18242\n",
      "min: 2\n"
     ]
    }
   ],
   "source": [
    "# Let's try to understand the underlying data here\n",
    "print 'N:', len(df.accuracy)\n",
    "print 'mean:',df.accuracy.mean()\n",
    "print 'median:',df.accuracy.median()\n",
    "print 'mode:',df.accuracy.mode()\n",
    "print 'std:',df.accuracy.std()\n",
    "print 'max:',df.accuracy.max()\n",
    "print 'min:',df.accuracy.min()"
   ]
  },
  {
   "cell_type": "code",
   "execution_count": 13,
   "metadata": {
    "collapsed": false
   },
   "outputs": [
    {
     "data": {
      "text/plain": [
       "<matplotlib.axes._subplots.AxesSubplot at 0x112c606d0>"
      ]
     },
     "execution_count": 13,
     "metadata": {},
     "output_type": "execute_result"
    },
    {
     "data": {
      "image/png": "[encoded data removed]",
      "text/plain": [
       "<matplotlib.figure.Figure at 0x11476c950>"
      ]
     },
     "metadata": {},
     "output_type": "display_data"
    }
   ],
   "source": [
    "# here's a historgram of this data -> what kind of distribution is this?\n",
    "\n",
    "sns.distplot(df.accuracy, bins=100, kde=False) # <- try changing the number of bins in the histogram\n",
    "#df.accuracy.hist() # --> similar way to plot a histogram"
   ]
  },
  {
   "cell_type": "markdown",
   "metadata": {},
   "source": [
    "A histogram is a graphical representation of the distribution of data. It is an estimate of the probability distribution of a continuous variable (quantitative variable) and was first introduced by Karl Pearson. To construct a histogram, the first step is to \"bin\" the range of values—that is, divide the entire range of values into a series of intervals—and then count how many values fall into each interval. The bins are usually specified as consecutive, non-overlapping intervals of a variable. The bins (intervals) must be adjacent, and are often (but are not required to be) of equal size."
   ]
  },
  {
   "cell_type": "code",
   "execution_count": 14,
   "metadata": {
    "collapsed": true
   },
   "outputs": [],
   "source": [
    "# now let's only look at values under 1000\n",
    "df_accuracy = df[[x<1000 for x in df.accuracy]].accuracy"
   ]
  },
  {
   "cell_type": "code",
   "execution_count": 15,
   "metadata": {
    "collapsed": false
   },
   "outputs": [
    {
     "data": {
      "text/plain": [
       "<matplotlib.axes._subplots.AxesSubplot at 0x114a19cd0>"
      ]
     },
     "execution_count": 15,
     "metadata": {},
     "output_type": "execute_result"
    },
    {
     "data": {
      "image/png": "[encoded data removed]",
      "text/plain": [
       "<matplotlib.figure.Figure at 0x112c84490>"
      ]
     },
     "metadata": {},
     "output_type": "display_data"
    }
   ],
   "source": [
    "sns.distplot(df_accuracy, bins=500, kde=False)"
   ]
  },
  {
   "cell_type": "markdown",
   "metadata": {},
   "source": [
    "- Multi-modal distribution (bimodal): continuous distribution with two different modes\n",
    "- Why with mobile data? Perhaps the nature of triangulation..?"
   ]
  },
  {
   "cell_type": "code",
   "execution_count": 16,
   "metadata": {
    "collapsed": false
   },
   "outputs": [
    {
     "data": {
      "text/plain": [
       "<matplotlib.axes._subplots.AxesSubplot at 0x114f45190>"
      ]
     },
     "execution_count": 16,
     "metadata": {},
     "output_type": "execute_result"
    },
    {
     "data": {
      "image/png": "[encoded data removed]",
      "text/plain": [
       "<matplotlib.figure.Figure at 0x115946d50>"
      ]
     },
     "metadata": {},
     "output_type": "display_data"
    }
   ],
   "source": [
    "# Box Plot (a.k.a. - cat and whiskers plot)\n",
    "\n",
    "df.accuracy.plot(kind='box', vert=False, sym='k.', figsize=(8,4))"
   ]
  },
  {
   "cell_type": "code",
   "execution_count": 17,
   "metadata": {
    "collapsed": false
   },
   "outputs": [
    {
     "data": {
      "text/plain": [
       "<matplotlib.axes._subplots.AxesSubplot at 0x114982d90>"
      ]
     },
     "execution_count": 17,
     "metadata": {},
     "output_type": "execute_result"
    },
    {
     "data": {
      "image/png": "[encoded data removed]",
      "text/plain": [
       "<matplotlib.figure.Figure at 0x11527fcd0>"
      ]
     },
     "metadata": {},
     "output_type": "display_data"
    }
   ],
   "source": [
    "df_accuracy.plot(kind='box', vert=False, sym='k.', figsize=(8,4))"
   ]
  },
  {
   "cell_type": "code",
   "execution_count": 18,
   "metadata": {
    "collapsed": false
   },
   "outputs": [
    {
     "data": {
      "text/plain": [
       "<matplotlib.axes._subplots.AxesSubplot at 0x114982e10>"
      ]
     },
     "execution_count": 18,
     "metadata": {},
     "output_type": "execute_result"
    },
    {
     "data": {
      "image/png": "[encoded data removed]",
      "text/plain": [
       "<matplotlib.figure.Figure at 0x1150d4390>"
      ]
     },
     "metadata": {},
     "output_type": "display_data"
    }
   ],
   "source": [
    "df[[x<120 for x in df.accuracy]].accuracy.plot(kind='box', vert=False, sym='k.', figsize=(8,4))"
   ]
  },
  {
   "cell_type": "code",
   "execution_count": 19,
   "metadata": {
    "collapsed": false
   },
   "outputs": [
    {
     "data": {
      "text/plain": [
       "<matplotlib.text.Text at 0x115cc2ad0>"
      ]
     },
     "execution_count": 19,
     "metadata": {},
     "output_type": "execute_result"
    },
    {
     "data": {
      "image/png": "[encoded data removed]",
      "text/plain": [
       "<matplotlib.figure.Figure at 0x115d15090>"
      ]
     },
     "metadata": {},
     "output_type": "display_data"
    }
   ],
   "source": [
    "sns.boxplot(df.altitude)\n",
    "title('altitude')"
   ]
  },
  {
   "cell_type": "code",
   "execution_count": 20,
   "metadata": {
    "collapsed": false
   },
   "outputs": [
    {
     "data": {
      "text/plain": [
       "<matplotlib.axes._subplots.AxesSubplot at 0x115cd3f50>"
      ]
     },
     "execution_count": 20,
     "metadata": {},
     "output_type": "execute_result"
    },
    {
     "data": {
      "image/png": "[encoded data removed]",
      "text/plain": [
       "<matplotlib.figure.Figure at 0x115cf67d0>"
      ]
     },
     "metadata": {},
     "output_type": "display_data"
    }
   ],
   "source": [
    "# remove the outlier\n",
    "sns.boxplot(df.altitude[[x<10000 for x in df.altitude]])"
   ]
  },
  {
   "cell_type": "code",
   "execution_count": 33,
   "metadata": {
    "collapsed": false
   },
   "outputs": [
    {
     "data": {
      "text/html": [
       "<div>\n",
       "<table border=\"1\" class=\"dataframe\">\n",
       "  <thead>\n",
       "    <tr style=\"text-align: right;\">\n",
       "      <th></th>\n",
       "      <th>accuracy</th>\n",
       "      <th>altitude</th>\n",
       "      <th>heading</th>\n",
       "      <th>latitudeE7</th>\n",
       "      <th>longitudeE7</th>\n",
       "      <th>velocity</th>\n",
       "      <th>verticalAccuracy</th>\n",
       "      <th>lat</th>\n",
       "      <th>lon</th>\n",
       "    </tr>\n",
       "  </thead>\n",
       "  <tbody>\n",
       "    <tr>\n",
       "      <th>accuracy</th>\n",
       "      <td>1.000000</td>\n",
       "      <td>0.007437</td>\n",
       "      <td>0.040739</td>\n",
       "      <td>0.037587</td>\n",
       "      <td>0.026195</td>\n",
       "      <td>-0.081820</td>\n",
       "      <td>0.139957</td>\n",
       "      <td>0.037587</td>\n",
       "      <td>0.026195</td>\n",
       "    </tr>\n",
       "    <tr>\n",
       "      <th>altitude</th>\n",
       "      <td>0.007437</td>\n",
       "      <td>1.000000</td>\n",
       "      <td>0.033608</td>\n",
       "      <td>0.006219</td>\n",
       "      <td>0.076272</td>\n",
       "      <td>0.143632</td>\n",
       "      <td>0.316018</td>\n",
       "      <td>0.006219</td>\n",
       "      <td>0.076272</td>\n",
       "    </tr>\n",
       "    <tr>\n",
       "      <th>heading</th>\n",
       "      <td>0.040739</td>\n",
       "      <td>0.033608</td>\n",
       "      <td>1.000000</td>\n",
       "      <td>0.062853</td>\n",
       "      <td>0.039352</td>\n",
       "      <td>0.053553</td>\n",
       "      <td>0.035028</td>\n",
       "      <td>0.062853</td>\n",
       "      <td>0.039352</td>\n",
       "    </tr>\n",
       "    <tr>\n",
       "      <th>latitudeE7</th>\n",
       "      <td>0.037587</td>\n",
       "      <td>0.006219</td>\n",
       "      <td>0.062853</td>\n",
       "      <td>1.000000</td>\n",
       "      <td>0.255318</td>\n",
       "      <td>0.046329</td>\n",
       "      <td>-0.071921</td>\n",
       "      <td>1.000000</td>\n",
       "      <td>0.255318</td>\n",
       "    </tr>\n",
       "    <tr>\n",
       "      <th>longitudeE7</th>\n",
       "      <td>0.026195</td>\n",
       "      <td>0.076272</td>\n",
       "      <td>0.039352</td>\n",
       "      <td>0.255318</td>\n",
       "      <td>1.000000</td>\n",
       "      <td>0.075740</td>\n",
       "      <td>0.083024</td>\n",
       "      <td>0.255318</td>\n",
       "      <td>1.000000</td>\n",
       "    </tr>\n",
       "    <tr>\n",
       "      <th>velocity</th>\n",
       "      <td>-0.081820</td>\n",
       "      <td>0.143632</td>\n",
       "      <td>0.053553</td>\n",
       "      <td>0.046329</td>\n",
       "      <td>0.075740</td>\n",
       "      <td>1.000000</td>\n",
       "      <td>-0.006151</td>\n",
       "      <td>0.046329</td>\n",
       "      <td>0.075740</td>\n",
       "    </tr>\n",
       "    <tr>\n",
       "      <th>verticalAccuracy</th>\n",
       "      <td>0.139957</td>\n",
       "      <td>0.316018</td>\n",
       "      <td>0.035028</td>\n",
       "      <td>-0.071921</td>\n",
       "      <td>0.083024</td>\n",
       "      <td>-0.006151</td>\n",
       "      <td>1.000000</td>\n",
       "      <td>-0.071921</td>\n",
       "      <td>0.083024</td>\n",
       "    </tr>\n",
       "    <tr>\n",
       "      <th>lat</th>\n",
       "      <td>0.037587</td>\n",
       "      <td>0.006219</td>\n",
       "      <td>0.062853</td>\n",
       "      <td>1.000000</td>\n",
       "      <td>0.255318</td>\n",
       "      <td>0.046329</td>\n",
       "      <td>-0.071921</td>\n",
       "      <td>1.000000</td>\n",
       "      <td>0.255318</td>\n",
       "    </tr>\n",
       "    <tr>\n",
       "      <th>lon</th>\n",
       "      <td>0.026195</td>\n",
       "      <td>0.076272</td>\n",
       "      <td>0.039352</td>\n",
       "      <td>0.255318</td>\n",
       "      <td>1.000000</td>\n",
       "      <td>0.075740</td>\n",
       "      <td>0.083024</td>\n",
       "      <td>0.255318</td>\n",
       "      <td>1.000000</td>\n",
       "    </tr>\n",
       "  </tbody>\n",
       "</table>\n",
       "</div>"
      ],
      "text/plain": [
       "                  accuracy  altitude   heading  latitudeE7  longitudeE7  \\\n",
       "accuracy          1.000000  0.007437  0.040739    0.037587     0.026195   \n",
       "altitude          0.007437  1.000000  0.033608    0.006219     0.076272   \n",
       "heading           0.040739  0.033608  1.000000    0.062853     0.039352   \n",
       "latitudeE7        0.037587  0.006219  0.062853    1.000000     0.255318   \n",
       "longitudeE7       0.026195  0.076272  0.039352    0.255318     1.000000   \n",
       "velocity         -0.081820  0.143632  0.053553    0.046329     0.075740   \n",
       "verticalAccuracy  0.139957  0.316018  0.035028   -0.071921     0.083024   \n",
       "lat               0.037587  0.006219  0.062853    1.000000     0.255318   \n",
       "lon               0.026195  0.076272  0.039352    0.255318     1.000000   \n",
       "\n",
       "                  velocity  verticalAccuracy       lat       lon  \n",
       "accuracy         -0.081820          0.139957  0.037587  0.026195  \n",
       "altitude          0.143632          0.316018  0.006219  0.076272  \n",
       "heading           0.053553          0.035028  0.062853  0.039352  \n",
       "latitudeE7        0.046329         -0.071921  1.000000  0.255318  \n",
       "longitudeE7       0.075740          0.083024  0.255318  1.000000  \n",
       "velocity          1.000000         -0.006151  0.046329  0.075740  \n",
       "verticalAccuracy -0.006151          1.000000 -0.071921  0.083024  \n",
       "lat               0.046329         -0.071921  1.000000  0.255318  \n",
       "lon               0.075740          0.083024  0.255318  1.000000  "
      ]
     },
     "execution_count": 33,
     "metadata": {},
     "output_type": "execute_result"
    }
   ],
   "source": [
    "df.corr()"
   ]
  },
  {
   "cell_type": "code",
   "execution_count": 39,
   "metadata": {
    "collapsed": false
   },
   "outputs": [
    {
     "data": {
      "text/plain": [
       "<matplotlib.axes._subplots.AxesSubplot at 0x11751e7d0>"
      ]
     },
     "execution_count": 39,
     "metadata": {},
     "output_type": "execute_result"
    },
    {
     "data": {
      "image/png": "[encoded data removed]",
      "text/plain": [
       "<matplotlib.figure.Figure at 0x11752da90>"
      ]
     },
     "metadata": {},
     "output_type": "display_data"
    }
   ],
   "source": [
    "from seaborn.linearmodels import corrplot\n",
    "\n",
    "corrplot(df, annot=False, diag_names=False)"
   ]
  },
  {
   "cell_type": "code",
   "execution_count": null,
   "metadata": {
    "collapsed": true
   },
   "outputs": [],
   "source": []
  },
  {
   "cell_type": "markdown",
   "metadata": {},
   "source": [
    "### Pickle the data"
   ]
  },
  {
   "cell_type": "code",
   "execution_count": 40,
   "metadata": {
    "collapsed": true
   },
   "outputs": [],
   "source": [
    "import pickle\n",
    "\n",
    "pickle.dump(df, open('ssoc_df_1.p','wb'))"
   ]
  },
  {
   "cell_type": "code",
   "execution_count": null,
   "metadata": {
    "collapsed": true
   },
   "outputs": [],
   "source": []
  },
  {
   "cell_type": "code",
   "execution_count": null,
   "metadata": {
    "collapsed": true
   },
   "outputs": [],
   "source": []
  },
  {
   "cell_type": "markdown",
   "metadata": {},
   "source": [
    "### Google APIs"
   ]
  },
  {
   "cell_type": "markdown",
   "metadata": {},
   "source": [
    "Instructions to set up a google API key:\n",
    "- https://console.developers.google.com/apis/dashboard\n",
    "\n",
    "- need to enable the Google Maps JavaScript API under APIs in the Google API Console\n",
    "    - https://console.developers.google.com/apis/api/maps_backend/overview?project=genuine-cirrus-115405\n"
   ]
  },
  {
   "cell_type": "code",
   "execution_count": null,
   "metadata": {
    "collapsed": true
   },
   "outputs": [],
   "source": []
  },
  {
   "cell_type": "markdown",
   "metadata": {},
   "source": [
    "### Visualize on a map"
   ]
  },
  {
   "cell_type": "code",
   "execution_count": 41,
   "metadata": {
    "collapsed": true
   },
   "outputs": [],
   "source": [
    "# pip install gmaps\n",
    "import gmaps\n",
    "import gmaps.datasets\n",
    "\n",
    "api_key = ''\n",
    "\n",
    "# insert Google API key\n",
    "gmaps.configure(api_key=api_key)"
   ]
  },
  {
   "cell_type": "code",
   "execution_count": 42,
   "metadata": {
    "collapsed": false
   },
   "outputs": [],
   "source": [
    "# array of (latitude, longitude) pairs\n",
    "data = [(v.lat,v.lon) for k,v in df.iterrows()]"
   ]
  },
  {
   "cell_type": "code",
   "execution_count": 43,
   "metadata": {
    "collapsed": true
   },
   "outputs": [],
   "source": [
    "# instantiate a gmaps object\n",
    "m = gmaps.Map()\n",
    "\n",
    "# add a layer (heatmap) to it using our data\n",
    "heatmap_layer = gmaps.Heatmap(data=data)\n",
    "heatmap_layer.gradient = ['white', 'red']\n",
    "heatmap_layer.point_radius = 3\n",
    "heatmap_layer.max_intensity = 2\n",
    "m.add_layer(heatmap_layer)\n",
    "\n",
    "m"
   ]
  },
  {
   "cell_type": "code",
   "execution_count": null,
   "metadata": {
    "collapsed": true
   },
   "outputs": [],
   "source": []
  },
  {
   "cell_type": "markdown",
   "metadata": {},
   "source": [
    "## Questions"
   ]
  },
  {
   "cell_type": "markdown",
   "metadata": {},
   "source": [
    "1. Describe the data fields - collected by the phone\n",
    "    - Why are some filled at times and others not?\n",
    "    - Why are there times when there are more data entries?\n",
    "    - What do the 'heading' or 'VerticalAccuracy' fields represent?\n",
    "2. Where do you observe outliers?\n",
    "    - Describe the outlier. What was your target doing?\n",
    "    - What is noise that you need to filter out, and how do you go about making that choice?\n",
    "3. Describe the top locations of your target. \n",
    "    - Can you identify home vs. work? Use a plot/map to show.\n",
    "    - Share a screenshot of this map in our shared slack channel.\n",
    "4. Use external data sources to describe the top areas visited by your target in terms of demographics, average income, race, and any other salient information you think is important."
   ]
  }
 ],
 "metadata": {
  "kernelspec": {
   "display_name": "Python 2",
   "language": "python",
   "name": "python2"
  },
  "language_info": {
   "codemirror_mode": {
    "name": "ipython",
    "version": 2
   },
   "file_extension": ".py",
   "mimetype": "text/x-python",
   "name": "python",
   "nbconvert_exporter": "python",
   "pygments_lexer": "ipython2",
   "version": "2.7.10"
  },
  "widgets": {
   "state": {
    "fa0bab15699147f5bd7b5dfab3eceaf5": {
     "views": [
      {
       "cell_index": 39
      }
     ]
    }
   },
   "version": "1.2.0"
  }
 },
 "nbformat": 4,
 "nbformat_minor": 1
}
