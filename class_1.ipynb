{
 "cells": [
  {
   "cell_type": "markdown",
   "metadata": {},
   "source": [
    "## Surveillance Society - class 1"
   ]
  },
  {
   "cell_type": "markdown",
   "metadata": {},
   "source": [
    "- Our data is logged through Google Location History: https://www.google.com/maps/timeline\n",
    "- And exported using Google Checkout: https://takeout.google.com/settings/takeout"
   ]
  },
  {
   "cell_type": "code",
   "execution_count": null,
   "metadata": {
    "collapsed": true
   },
   "outputs": [],
   "source": [
    "# Let's load it into a python dictionary\n",
    "\n",
    "import json\n",
    "\n",
    "floc = 'data/'\n",
    "fname = 'gilad.json'\n",
    "\n",
    "j = json.loads(open(floc+fname, 'r').read())"
   ]
  },
  {
   "cell_type": "code",
   "execution_count": null,
   "metadata": {
    "collapsed": false
   },
   "outputs": [],
   "source": [
    "j"
   ]
  },
  {
   "cell_type": "code",
   "execution_count": null,
   "metadata": {
    "collapsed": false
   },
   "outputs": [],
   "source": [
    "print 'number of entries:',len(j['locations'])"
   ]
  },
  {
   "cell_type": "code",
   "execution_count": null,
   "metadata": {
    "collapsed": false
   },
   "outputs": [],
   "source": [
    "# different fields are filled at different points in time\n",
    "\n",
    "for i in range(10):\n",
    "\n",
    "    for k,v in j['locations'][i].items():\n",
    "        print k,v\n",
    "        \n",
    "    print ''\n"
   ]
  },
  {
   "cell_type": "markdown",
   "metadata": {},
   "source": [
    "## Pandas Dataframe"
   ]
  },
  {
   "cell_type": "code",
   "execution_count": null,
   "metadata": {
    "collapsed": false
   },
   "outputs": [],
   "source": [
    "import pandas as pd\n",
    "\n",
    "df = pd.DataFrame.from_dict(j['locations'])\n",
    "print('There are %s rows' % len(df))"
   ]
  },
  {
   "cell_type": "code",
   "execution_count": null,
   "metadata": {
    "collapsed": false
   },
   "outputs": [],
   "source": [
    "df.head()"
   ]
  },
  {
   "cell_type": "code",
   "execution_count": null,
   "metadata": {
    "collapsed": false
   },
   "outputs": [],
   "source": [
    "df.fillna(0).head()"
   ]
  },
  {
   "cell_type": "code",
   "execution_count": null,
   "metadata": {
    "collapsed": false
   },
   "outputs": [],
   "source": [
    "# convert lat, lon to decimalized degrees\n",
    "\n",
    "df['lat'] = df['latitudeE7'] / 10.**7\n",
    "df['lon'] = df['longitudeE7'] / 10.**7\n",
    "df.head()"
   ]
  },
  {
   "cell_type": "markdown",
   "metadata": {},
   "source": [
    "## Exploring our data"
   ]
  },
  {
   "cell_type": "code",
   "execution_count": null,
   "metadata": {
    "collapsed": false
   },
   "outputs": [],
   "source": [
    "%pylab inline\n",
    "\n",
    "df.altitude.plot()\n",
    "title('altitude')"
   ]
  },
  {
   "cell_type": "code",
   "execution_count": null,
   "metadata": {
    "collapsed": false
   },
   "outputs": [],
   "source": [
    "# we can use the seaborn library for prettier plotting (many more examples here - http://seaborn.pydata.org/)\n",
    "import seaborn as sns\n",
    "sns.set(color_codes=True)\n",
    "\n",
    "df.accuracy.plot(figsize=(10,4))\n",
    "title('accuracy')"
   ]
  },
  {
   "cell_type": "code",
   "execution_count": null,
   "metadata": {
    "collapsed": false
   },
   "outputs": [],
   "source": [
    "df.accuracy[:15]"
   ]
  },
  {
   "cell_type": "code",
   "execution_count": null,
   "metadata": {
    "collapsed": false
   },
   "outputs": [],
   "source": [
    "# Let's try to understand the underlying data here\n",
    "print 'N:', len(df.accuracy)\n",
    "print 'mean:',df.accuracy.mean()\n",
    "print 'median:',df.accuracy.median()\n",
    "print 'mode:',df.accuracy.mode()\n",
    "print 'std:',df.accuracy.std()\n",
    "print 'max:',df.accuracy.max()\n",
    "print 'min:',df.accuracy.min()"
   ]
  },
  {
   "cell_type": "code",
   "execution_count": null,
   "metadata": {
    "collapsed": false
   },
   "outputs": [],
   "source": [
    "# here's a historgram of this data -> what kind of distribution is this?\n",
    "\n",
    "sns.distplot(df.accuracy, bins=100, kde=False) # <- try changing the number of bins in the histogram\n",
    "#df.accuracy.hist() # --> similar way to plot a histogram"
   ]
  },
  {
   "cell_type": "markdown",
   "metadata": {},
   "source": [
    "A histogram is a graphical representation of the distribution of data. It is an estimate of the probability distribution of a continuous variable (quantitative variable) and was first introduced by Karl Pearson. To construct a histogram, the first step is to \"bin\" the range of values—that is, divide the entire range of values into a series of intervals—and then count how many values fall into each interval. The bins are usually specified as consecutive, non-overlapping intervals of a variable. The bins (intervals) must be adjacent, and are often (but are not required to be) of equal size."
   ]
  },
  {
   "cell_type": "code",
   "execution_count": null,
   "metadata": {
    "collapsed": true
   },
   "outputs": [],
   "source": [
    "# now let's only look at values under 1000\n",
    "df_accuracy = df[[x<1000 for x in df.accuracy]].accuracy"
   ]
  },
  {
   "cell_type": "code",
   "execution_count": null,
   "metadata": {
    "collapsed": false
   },
   "outputs": [],
   "source": [
    "sns.distplot(df_accuracy, bins=500, kde=False)"
   ]
  },
  {
   "cell_type": "markdown",
   "metadata": {},
   "source": [
    "- Multi-modal distribution (bimodal): continuous distribution with two different modes\n",
    "- Why with mobile data? Perhaps the nature of triangulation..?"
   ]
  },
  {
   "cell_type": "code",
   "execution_count": null,
   "metadata": {
    "collapsed": false
   },
   "outputs": [],
   "source": [
    "# Box Plot (a.k.a. - cat and whiskers plot)\n",
    "\n",
    "df.accuracy.plot(kind='box', vert=False, sym='k.', figsize=(8,4))"
   ]
  },
  {
   "cell_type": "code",
   "execution_count": null,
   "metadata": {
    "collapsed": false
   },
   "outputs": [],
   "source": [
    "df_accuracy.plot(kind='box', vert=False, sym='k.', figsize=(8,4))"
   ]
  },
  {
   "cell_type": "code",
   "execution_count": null,
   "metadata": {
    "collapsed": false
   },
   "outputs": [],
   "source": [
    "df[[x<120 for x in df.accuracy]].accuracy.plot(kind='box', vert=False, sym='k.', figsize=(8,4))"
   ]
  },
  {
   "cell_type": "code",
   "execution_count": null,
   "metadata": {
    "collapsed": false
   },
   "outputs": [],
   "source": [
    "sns.boxplot(df.altitude)\n",
    "title('altitude')"
   ]
  },
  {
   "cell_type": "code",
   "execution_count": null,
   "metadata": {
    "collapsed": false
   },
   "outputs": [],
   "source": [
    "# remove the outlier\n",
    "sns.boxplot(df.altitude[[x<10000 for x in df.altitude]])"
   ]
  },
  {
   "cell_type": "code",
   "execution_count": null,
   "metadata": {
    "collapsed": false
   },
   "outputs": [],
   "source": [
    "df.corr()"
   ]
  },
  {
   "cell_type": "code",
   "execution_count": null,
   "metadata": {
    "collapsed": false
   },
   "outputs": [],
   "source": [
    "sns.corrplot(df, annot=False, diag_names=False)"
   ]
  },
  {
   "cell_type": "code",
   "execution_count": null,
   "metadata": {
    "collapsed": true
   },
   "outputs": [],
   "source": []
  },
  {
   "cell_type": "markdown",
   "metadata": {},
   "source": [
    "### Pickle the data"
   ]
  },
  {
   "cell_type": "code",
   "execution_count": null,
   "metadata": {
    "collapsed": true
   },
   "outputs": [],
   "source": [
    "import pickle\n",
    "\n",
    "pickle.dump(df, open('ssoc_df_1.p','wb'))"
   ]
  },
  {
   "cell_type": "code",
   "execution_count": null,
   "metadata": {
    "collapsed": true
   },
   "outputs": [],
   "source": []
  },
  {
   "cell_type": "code",
   "execution_count": null,
   "metadata": {
    "collapsed": true
   },
   "outputs": [],
   "source": []
  },
  {
   "cell_type": "markdown",
   "metadata": {},
   "source": [
    "### Google APIs"
   ]
  },
  {
   "cell_type": "markdown",
   "metadata": {},
   "source": [
    "Instructions to set up a google API key:\n",
    "- https://console.developers.google.com/apis/dashboard\n",
    "\n",
    "- need to enable the Google Maps JavaScript API under APIs in the Google API Console\n",
    "    - https://console.developers.google.com/apis/api/maps_backend/overview?project=genuine-cirrus-115405\n"
   ]
  },
  {
   "cell_type": "code",
   "execution_count": null,
   "metadata": {
    "collapsed": true
   },
   "outputs": [],
   "source": []
  },
  {
   "cell_type": "markdown",
   "metadata": {},
   "source": [
    "### Visualize on a map"
   ]
  },
  {
   "cell_type": "code",
   "execution_count": null,
   "metadata": {
    "collapsed": true
   },
   "outputs": [],
   "source": [
    "# pip install gmaps\n",
    "import gmaps\n",
    "import gmaps.datasets\n",
    "\n",
    "api_key = ''\n",
    "\n",
    "# insert Google API key\n",
    "gmaps.configure(api_key=api_key)"
   ]
  },
  {
   "cell_type": "code",
   "execution_count": null,
   "metadata": {
    "collapsed": false
   },
   "outputs": [],
   "source": [
    "# array of (latitude, longitude) pairs\n",
    "data = [(v.lat,v.lon) for k,v in df.iterrows()]"
   ]
  },
  {
   "cell_type": "code",
   "execution_count": null,
   "metadata": {
    "collapsed": true
   },
   "outputs": [],
   "source": [
    "# instantiate a gmaps object\n",
    "m = gmaps.Map()\n",
    "\n",
    "# add a layer (heatmap) to it using our data\n",
    "heatmap_layer = gmaps.Heatmap(data=data)\n",
    "heatmap_layer.gradient = ['white', 'red']\n",
    "heatmap_layer.point_radius = 3\n",
    "heatmap_layer.max_intensity = 2\n",
    "m.add_layer(heatmap_layer)\n",
    "\n",
    "m"
   ]
  },
  {
   "cell_type": "code",
   "execution_count": null,
   "metadata": {
    "collapsed": true
   },
   "outputs": [],
   "source": []
  },
  {
   "cell_type": "markdown",
   "metadata": {},
   "source": [
    "## Questions"
   ]
  },
  {
   "cell_type": "markdown",
   "metadata": {},
   "source": [
    "1. Describe the data fields - collected by the phone\n",
    "    - Why are some filled at times and others not?\n",
    "    - Why are there times when there are more data entries?\n",
    "    - What do the 'heading' or 'VerticalAccuracy' fields represent?\n",
    "2. Where do you observe outliers?\n",
    "    - Describe the outlier. What was your target doing?\n",
    "    - What is noise that you need to filter out, and how do you go about making that choice?\n",
    "3. Describe the top locations of your target. \n",
    "    - Can you identify home vs. work? Use a plot/map to show.\n",
    "    - Share a screenshot of this map in our shared slack channel.\n",
    "4. Use external data sources to describe the top areas visited by your target in terms of demographics, average income, race, and any other salient information you think is important."
   ]
  }
 ],
 "metadata": {
  "kernelspec": {
   "display_name": "Python 2",
   "language": "python",
   "name": "python2"
  },
  "language_info": {
   "codemirror_mode": {
    "name": "ipython",
    "version": 2
   },
   "file_extension": ".py",
   "mimetype": "text/x-python",
   "name": "python",
   "nbconvert_exporter": "python",
   "pygments_lexer": "ipython2",
   "version": "2.7.10"
  }
 },
 "nbformat": 4,
 "nbformat_minor": 1
}
